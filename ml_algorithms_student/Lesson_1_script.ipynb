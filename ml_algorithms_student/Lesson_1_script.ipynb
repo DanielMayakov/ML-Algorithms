{
 "cells": [
  {
   "cell_type": "markdown",
   "metadata": {},
   "source": [
    "## Урок 1. Алгоритм линейной регрессии. Градиентный спуск"
   ]
  },
  {
   "cell_type": "code",
   "execution_count": 1,
   "metadata": {
    "colab": {},
    "colab_type": "code",
    "id": "ak8b3KV45kVW"
   },
   "outputs": [],
   "source": [
    "import numpy as np\n",
    "import matplotlib.pyplot as plt"
   ]
  },
  {
   "cell_type": "markdown",
   "metadata": {},
   "source": [
    "__Задача:__ предсказание баллов ЕГЭ ученика в зависимости от кол-ва лет стажа его репетитора"
   ]
  },
  {
   "cell_type": "code",
   "execution_count": 2,
   "metadata": {
    "colab": {},
    "colab_type": "code",
    "id": "i77tZbAd5plB"
   },
   "outputs": [
    {
     "data": {
      "text/plain": [
       "array([[ 1,  1,  1,  1,  1,  1,  1,  1,  1,  1],\n",
       "       [ 1,  1,  2,  5,  3,  0,  5, 10,  1,  2]])"
      ]
     },
     "execution_count": 2,
     "metadata": {},
     "output_type": "execute_result"
    }
   ],
   "source": [
    "X = np.array([[1, 1, 1, 1, 1, 1, 1, 1, 1, 1],\n",
    "              [1, 1, 2, 5, 3, 0, 5, 10, 1, 2]])\n",
    "X"
   ]
  },
  {
   "cell_type": "code",
   "execution_count": 3,
   "metadata": {
    "colab": {
     "base_uri": "https://localhost:8080/",
     "height": 34
    },
    "colab_type": "code",
    "id": "ejifaMBe6VaP",
    "outputId": "190a541b-5c6d-48f6-8982-b513de5d7606"
   },
   "outputs": [
    {
     "data": {
      "text/plain": [
       "(2, 10)"
      ]
     },
     "execution_count": 3,
     "metadata": {},
     "output_type": "execute_result"
    }
   ],
   "source": [
    "X.shape"
   ]
  },
  {
   "cell_type": "code",
   "execution_count": 4,
   "metadata": {
    "colab": {},
    "colab_type": "code",
    "id": "VsNrKi1Q6Wmh"
   },
   "outputs": [],
   "source": [
    "y = [45, 55, 50, 55, 60, 35, 75, 80, 50, 60]"
   ]
  },
  {
   "cell_type": "markdown",
   "metadata": {},
   "source": [
    "Уравнение прямой: $y = a*x + b$"
   ]
  },
  {
   "cell_type": "code",
   "execution_count": 5,
   "metadata": {
    "colab": {},
    "colab_type": "code",
    "id": "NntLxvtU7CbH"
   },
   "outputs": [],
   "source": [
    "y_pred1 = 35 * np.ones(10) + X[1]*5\n",
    "y_pred2 = 40 * np.ones(10) + X[1]*7.5"
   ]
  },
  {
   "cell_type": "code",
   "execution_count": 6,
   "metadata": {
    "colab": {
     "base_uri": "https://localhost:8080/",
     "height": 282
    },
    "colab_type": "code",
    "id": "OTikrodr6n-i",
    "outputId": "9c347927-ae0d-40ba-bcd7-fdd9de2688bf"
   },
   "outputs": [
    {
     "data": {
      "image/png": "[encoded data removed]",
      "text/plain": [
       "<Figure size 640x480 with 1 Axes>"
      ]
     },
     "metadata": {},
     "output_type": "display_data"
    }
   ],
   "source": [
    "plt.scatter(X[1], y)\n",
    "plt.plot(X[1], y_pred1, label='1')\n",
    "plt.plot(X[1], y_pred2, label='2')\n",
    "plt.legend()\n",
    "plt.show()"
   ]
  },
  {
   "cell_type": "markdown",
   "metadata": {},
   "source": [
    "Простая ошибка"
   ]
  },
  {
   "cell_type": "code",
   "execution_count": 7,
   "metadata": {
    "colab": {},
    "colab_type": "code",
    "id": "zbsqjAxH9WqI"
   },
   "outputs": [
    {
     "data": {
      "text/plain": [
       "(65.0, -60.0)"
      ]
     },
     "execution_count": 7,
     "metadata": {},
     "output_type": "execute_result"
    }
   ],
   "source": [
    "err1 = np.sum(y - y_pred1)\n",
    "err2 = np.sum(y - y_pred2)\n",
    "err1, err2"
   ]
  },
  {
   "cell_type": "markdown",
   "metadata": {},
   "source": [
    "MAE (Mean Absolute Error)"
   ]
  },
  {
   "cell_type": "code",
   "execution_count": 8,
   "metadata": {
    "colab": {},
    "colab_type": "code",
    "id": "vUqCthPf9eYI"
   },
   "outputs": [
    {
     "data": {
      "text/plain": [
       "(8.5, 9.0)"
      ]
     },
     "execution_count": 8,
     "metadata": {},
     "output_type": "execute_result"
    }
   ],
   "source": [
    "mae_1 = np.sum(np.abs(y - y_pred1)) / 10\n",
    "mae_2 = np.sum(np.abs(y - y_pred2)) / 10\n",
    "mae_1, mae_2"
   ]
  },
  {
   "cell_type": "markdown",
   "metadata": {},
   "source": [
    "MSE (Mean Squared Error)"
   ]
  },
  {
   "cell_type": "code",
   "execution_count": 9,
   "metadata": {
    "colab": {},
    "colab_type": "code",
    "id": "XTn2bZIg_EBS"
   },
   "outputs": [
    {
     "data": {
      "text/plain": [
       "(97.5, 188.75)"
      ]
     },
     "execution_count": 9,
     "metadata": {},
     "output_type": "execute_result"
    }
   ],
   "source": [
    "mse_1 = np.mean((y - y_pred1)**2)\n",
    "mse_2 = np.mean((y - y_pred2)**2)\n",
    "mse_1, mse_2"
   ]
  },
  {
   "cell_type": "markdown",
   "metadata": {
    "colab_type": "text",
    "id": "R4zHyZ2Da5HV"
   },
   "source": [
    "Метод наименьших квадратов (МНК)"
   ]
  },
  {
   "cell_type": "code",
   "execution_count": 10,
   "metadata": {
    "colab": {
     "base_uri": "https://localhost:8080/",
     "height": 34
    },
    "colab_type": "code",
    "id": "GEeiext0BR1m",
    "outputId": "2a5e98e6-e201-4cf9-c113-bb207490b31e"
   },
   "outputs": [
    {
     "data": {
      "text/plain": [
       "(2, 10)"
      ]
     },
     "execution_count": 10,
     "metadata": {},
     "output_type": "execute_result"
    }
   ],
   "source": [
    "X.shape"
   ]
  },
  {
   "cell_type": "code",
   "execution_count": 11,
   "metadata": {
    "colab": {
     "base_uri": "https://localhost:8080/",
     "height": 34
    },
    "colab_type": "code",
    "id": "j1BN1FZHBVo8",
    "outputId": "d5820bdf-e0a3-4de0-96ef-b73e9b43fd64"
   },
   "outputs": [
    {
     "data": {
      "text/plain": [
       "(10, 2)"
      ]
     },
     "execution_count": 11,
     "metadata": {},
     "output_type": "execute_result"
    }
   ],
   "source": [
    "X.T.shape"
   ]
  },
  {
   "cell_type": "code",
   "execution_count": 12,
   "metadata": {},
   "outputs": [
    {
     "data": {
      "text/plain": [
       "True"
      ]
     },
     "execution_count": 12,
     "metadata": {},
     "output_type": "execute_result"
    }
   ],
   "source": [
    "all(X @ y == np.dot(X,y))"
   ]
  },
  {
   "cell_type": "code",
   "execution_count": 13,
   "metadata": {
    "colab": {
     "base_uri": "https://localhost:8080/",
     "height": 34
    },
    "colab_type": "code",
    "id": "mnyZzkaDBegD",
    "outputId": "368800a6-deef-46d0-b27f-d6eb5e46a743"
   },
   "outputs": [
    {
     "data": {
      "text/plain": [
       "array([45.0625,  3.8125])"
      ]
     },
     "execution_count": 13,
     "metadata": {},
     "output_type": "execute_result"
    }
   ],
   "source": [
    "W = np.linalg.inv(np.dot(X, X.T)) @ X @ y\n",
    "W"
   ]
  },
  {
   "cell_type": "code",
   "execution_count": 14,
   "metadata": {},
   "outputs": [],
   "source": [
    "y_pred3 = W[0] * X[0] + W[1] * X[1]"
   ]
  },
  {
   "cell_type": "code",
   "execution_count": 15,
   "metadata": {
    "colab": {
     "base_uri": "https://localhost:8080/",
     "height": 282
    },
    "colab_type": "code",
    "id": "Lyg-J3H7Bnv5",
    "outputId": "7701dd28-d123-4773-cd1f-1439abfb6d90"
   },
   "outputs": [
    {
     "data": {
      "image/png": "[encoded data removed]",
      "text/plain": [
       "<Figure size 640x480 with 1 Axes>"
      ]
     },
     "metadata": {},
     "output_type": "display_data"
    }
   ],
   "source": [
    "plt.scatter(X[1], y)\n",
    "plt.plot(X[1], y_pred1, label='1 - manual')\n",
    "plt.plot(X[1], y_pred2, label='2 - manual')\n",
    "plt.plot(X[1], y_pred3, label='3 - analytical solution')\n",
    "plt.legend()\n",
    "plt.show()"
   ]
  },
  {
   "cell_type": "code",
   "execution_count": 16,
   "metadata": {
    "colab": {},
    "colab_type": "code",
    "id": "JTSC2cFnCd8T"
   },
   "outputs": [],
   "source": [
    "def calc_mae(y, y_pred):\n",
    "    err = np.mean(np.abs(y - y_pred))\n",
    "    return err\n",
    "\n",
    "def calc_mse(y, y_pred):\n",
    "    err = np.mean((y - y_pred)**2) # <=> 1/n * np.sum((y_pred - y)**2)\n",
    "    return err"
   ]
  },
  {
   "cell_type": "code",
   "execution_count": 17,
   "metadata": {
    "colab": {
     "base_uri": "https://localhost:8080/",
     "height": 34
    },
    "colab_type": "code",
    "id": "MYSrwISJDGfS",
    "outputId": "891bfd3a-142c-466c-a9d9-7ebfb303e86c"
   },
   "outputs": [
    {
     "data": {
      "text/plain": [
       "(8.5, 97.5)"
      ]
     },
     "execution_count": 17,
     "metadata": {},
     "output_type": "execute_result"
    }
   ],
   "source": [
    "calc_mae(y, y_pred1), calc_mse(y, y_pred1)"
   ]
  },
  {
   "cell_type": "code",
   "execution_count": 18,
   "metadata": {
    "colab": {
     "base_uri": "https://localhost:8080/",
     "height": 34
    },
    "colab_type": "code",
    "id": "MYSrwISJDGfS",
    "outputId": "891bfd3a-142c-466c-a9d9-7ebfb303e86c"
   },
   "outputs": [
    {
     "data": {
      "text/plain": [
       "(9.0, 188.75)"
      ]
     },
     "execution_count": 18,
     "metadata": {},
     "output_type": "execute_result"
    }
   ],
   "source": [
    "calc_mae(y, y_pred2), calc_mse(y, y_pred2)"
   ]
  },
  {
   "cell_type": "code",
   "execution_count": 19,
   "metadata": {
    "colab": {
     "base_uri": "https://localhost:8080/",
     "height": 34
    },
    "colab_type": "code",
    "id": "_WtO6lvhDmQ6",
    "outputId": "8de8b895-85d8-448e-f565-b70e93a5dd25"
   },
   "outputs": [
    {
     "data": {
      "text/plain": [
       "(5.7875, 43.96875)"
      ]
     },
     "execution_count": 19,
     "metadata": {},
     "output_type": "execute_result"
    }
   ],
   "source": [
    "calc_mae(y, y_pred3), calc_mse(y, y_pred3)"
   ]
  },
  {
   "cell_type": "markdown",
   "metadata": {
    "colab_type": "text",
    "id": "JAOgIXLRa--g"
   },
   "source": [
    "Градиентный спуск"
   ]
  },
  {
   "cell_type": "code",
   "execution_count": 20,
   "metadata": {
    "colab": {},
    "colab_type": "code",
    "id": "DNebwUP7Fd8F"
   },
   "outputs": [],
   "source": [
    "n = 10\n",
    "Q = 1/n * np.sum((y_pred3 - y)**2) # функционал ошибки, y = X*w"
   ]
  },
  {
   "cell_type": "code",
   "execution_count": 21,
   "metadata": {
    "colab": {},
    "colab_type": "code",
    "id": "5DKkvmkwHdOx"
   },
   "outputs": [],
   "source": [
    "alpha = 1e-2 # величина шага\n",
    "g = alpha * (1/n * 2 * np.sum(X[0] * (W[0] * X[0] - y)))"
   ]
  },
  {
   "cell_type": "code",
   "execution_count": 22,
   "metadata": {
    "colab": {
     "base_uri": "https://localhost:8080/",
     "height": 34
    },
    "colab_type": "code",
    "id": "ZVRCF5P2MYI6",
    "outputId": "0b0e2f05-a23c-4bf8-f37d-b4240d2e0af0"
   },
   "outputs": [
    {
     "data": {
      "text/plain": [
       "(45.0625, 45.29125)"
      ]
     },
     "execution_count": 22,
     "metadata": {},
     "output_type": "execute_result"
    }
   ],
   "source": [
    "W[0], W[0] - g"
   ]
  },
  {
   "cell_type": "markdown",
   "metadata": {},
   "source": [
    "### Д/З"
   ]
  },
  {
   "cell_type": "markdown",
   "metadata": {
    "colab_type": "text",
    "id": "huXrhXQsZTMt"
   },
   "source": [
    "1. Подберите скорость обучения (alpha) и количество итераций"
   ]
  },
  {
   "cell_type": "code",
   "execution_count": 23,
   "metadata": {
    "colab": {
     "base_uri": "https://localhost:8080/",
     "height": 185
    },
    "colab_type": "code",
    "id": "IDB22MQKMYaJ",
    "outputId": "4c03219e-a57c-4583-f439-6699fd0619bb"
   },
   "outputs": [
    {
     "name": "stdout",
     "output_type": "stream",
     "text": [
      "Number of objects = 10        \n",
      "Learning rate = 0.01        \n",
      "Initial weights = [45.0625  3.8125] \n",
      "\n",
      "Iteration #0: W_new = [45.0625  3.8125], MSE = 43.97\n",
      "Iteration #10: W_new = [45.0625  3.8125], MSE = 43.97\n",
      "Iteration #20: W_new = [45.0625  3.8125], MSE = 43.97\n",
      "Iteration #30: W_new = [45.0625  3.8125], MSE = 43.97\n",
      "Iteration #40: W_new = [45.0625  3.8125], MSE = 43.97\n",
      "Iteration #50: W_new = [45.0625  3.8125], MSE = 43.97\n",
      "Iteration #60: W_new = [45.0625  3.8125], MSE = 43.97\n",
      "Iteration #70: W_new = [45.0625  3.8125], MSE = 43.97\n",
      "Iteration #80: W_new = [45.0625  3.8125], MSE = 43.97\n",
      "Iteration #90: W_new = [45.0625  3.8125], MSE = 43.97\n",
      "Iteration #100: W_new = [45.0625  3.8125], MSE = 43.97\n",
      "Iteration #110: W_new = [45.0625  3.8125], MSE = 43.97\n",
      "Iteration #120: W_new = [45.0625  3.8125], MSE = 43.97\n",
      "Iteration #130: W_new = [45.0625  3.8125], MSE = 43.97\n",
      "Iteration #140: W_new = [45.0625  3.8125], MSE = 43.97\n",
      "Iteration #150: W_new = [45.0625  3.8125], MSE = 43.97\n",
      "Iteration #160: W_new = [45.0625  3.8125], MSE = 43.97\n",
      "Iteration #170: W_new = [45.0625  3.8125], MSE = 43.97\n",
      "Iteration #180: W_new = [45.0625  3.8125], MSE = 43.97\n",
      "Iteration #190: W_new = [45.0625  3.8125], MSE = 43.97\n",
      "Iteration #200: W_new = [45.0625  3.8125], MSE = 43.97\n",
      "Iteration #210: W_new = [45.0625  3.8125], MSE = 43.97\n",
      "Iteration #220: W_new = [45.0625  3.8125], MSE = 43.97\n",
      "Iteration #230: W_new = [45.0625  3.8125], MSE = 43.97\n",
      "Iteration #240: W_new = [45.0625  3.8125], MSE = 43.97\n",
      "Iteration #250: W_new = [45.0625  3.8125], MSE = 43.97\n",
      "Iteration #260: W_new = [45.0625  3.8125], MSE = 43.97\n",
      "Iteration #270: W_new = [45.0625  3.8125], MSE = 43.97\n",
      "Iteration #280: W_new = [45.0625  3.8125], MSE = 43.97\n",
      "Iteration #290: W_new = [45.0625  3.8125], MSE = 43.97\n",
      "Iteration #300: W_new = [45.0625  3.8125], MSE = 43.97\n",
      "Iteration #310: W_new = [45.0625  3.8125], MSE = 43.97\n",
      "Iteration #320: W_new = [45.0625  3.8125], MSE = 43.97\n",
      "Iteration #330: W_new = [45.0625  3.8125], MSE = 43.97\n",
      "Iteration #340: W_new = [45.0625  3.8125], MSE = 43.97\n",
      "Iteration #350: W_new = [45.0625  3.8125], MSE = 43.97\n",
      "Iteration #360: W_new = [45.0625  3.8125], MSE = 43.97\n",
      "Iteration #370: W_new = [45.0625  3.8125], MSE = 43.97\n",
      "Iteration #380: W_new = [45.0625  3.8125], MSE = 43.97\n",
      "Iteration #390: W_new = [45.0625  3.8125], MSE = 43.97\n",
      "Iteration #400: W_new = [45.0625  3.8125], MSE = 43.97\n",
      "Iteration #410: W_new = [45.0625  3.8125], MSE = 43.97\n",
      "Iteration #420: W_new = [45.0625  3.8125], MSE = 43.97\n",
      "Iteration #430: W_new = [45.0625  3.8125], MSE = 43.97\n",
      "Iteration #440: W_new = [45.0625  3.8125], MSE = 43.97\n",
      "Iteration #450: W_new = [45.0625  3.8125], MSE = 43.97\n",
      "Iteration #460: W_new = [45.0625  3.8125], MSE = 43.97\n",
      "Iteration #470: W_new = [45.0625  3.8125], MSE = 43.97\n",
      "Iteration #480: W_new = [45.0625  3.8125], MSE = 43.97\n",
      "Iteration #490: W_new = [45.0625  3.8125], MSE = 43.97\n",
      "Iteration #500: W_new = [45.0625  3.8125], MSE = 43.97\n",
      "Iteration #510: W_new = [45.0625  3.8125], MSE = 43.97\n",
      "Iteration #520: W_new = [45.0625  3.8125], MSE = 43.97\n",
      "Iteration #530: W_new = [45.0625  3.8125], MSE = 43.97\n",
      "Iteration #540: W_new = [45.0625  3.8125], MSE = 43.97\n",
      "Iteration #550: W_new = [45.0625  3.8125], MSE = 43.97\n",
      "Iteration #560: W_new = [45.0625  3.8125], MSE = 43.97\n",
      "Iteration #570: W_new = [45.0625  3.8125], MSE = 43.97\n",
      "Iteration #580: W_new = [45.0625  3.8125], MSE = 43.97\n",
      "Iteration #590: W_new = [45.0625  3.8125], MSE = 43.97\n",
      "Iteration #600: W_new = [45.0625  3.8125], MSE = 43.97\n",
      "Iteration #610: W_new = [45.0625  3.8125], MSE = 43.97\n",
      "Iteration #620: W_new = [45.0625  3.8125], MSE = 43.97\n",
      "Iteration #630: W_new = [45.0625  3.8125], MSE = 43.97\n",
      "Iteration #640: W_new = [45.0625  3.8125], MSE = 43.97\n",
      "Iteration #650: W_new = [45.0625  3.8125], MSE = 43.97\n",
      "Iteration #660: W_new = [45.0625  3.8125], MSE = 43.97\n",
      "Iteration #670: W_new = [45.0625  3.8125], MSE = 43.97\n",
      "Iteration #680: W_new = [45.0625  3.8125], MSE = 43.97\n",
      "Iteration #690: W_new = [45.0625  3.8125], MSE = 43.97\n",
      "Iteration #700: W_new = [45.0625  3.8125], MSE = 43.97\n",
      "Iteration #710: W_new = [45.0625  3.8125], MSE = 43.97\n",
      "Iteration #720: W_new = [45.0625  3.8125], MSE = 43.97\n",
      "Iteration #730: W_new = [45.0625  3.8125], MSE = 43.97\n",
      "Iteration #740: W_new = [45.0625  3.8125], MSE = 43.97\n",
      "Iteration #750: W_new = [45.0625  3.8125], MSE = 43.97\n",
      "Iteration #760: W_new = [45.0625  3.8125], MSE = 43.97\n",
      "Iteration #770: W_new = [45.0625  3.8125], MSE = 43.97\n",
      "Iteration #780: W_new = [45.0625  3.8125], MSE = 43.97\n",
      "Iteration #790: W_new = [45.0625  3.8125], MSE = 43.97\n",
      "Iteration #800: W_new = [45.0625  3.8125], MSE = 43.97\n",
      "Iteration #810: W_new = [45.0625  3.8125], MSE = 43.97\n",
      "Iteration #820: W_new = [45.0625  3.8125], MSE = 43.97\n",
      "Iteration #830: W_new = [45.0625  3.8125], MSE = 43.97\n",
      "Iteration #840: W_new = [45.0625  3.8125], MSE = 43.97\n",
      "Iteration #850: W_new = [45.0625  3.8125], MSE = 43.97\n",
      "Iteration #860: W_new = [45.0625  3.8125], MSE = 43.97\n",
      "Iteration #870: W_new = [45.0625  3.8125], MSE = 43.97\n",
      "Iteration #880: W_new = [45.0625  3.8125], MSE = 43.97\n",
      "Iteration #890: W_new = [45.0625  3.8125], MSE = 43.97\n",
      "Iteration #900: W_new = [45.0625  3.8125], MSE = 43.97\n",
      "Iteration #910: W_new = [45.0625  3.8125], MSE = 43.97\n",
      "Iteration #920: W_new = [45.0625  3.8125], MSE = 43.97\n",
      "Iteration #930: W_new = [45.0625  3.8125], MSE = 43.97\n",
      "Iteration #940: W_new = [45.0625  3.8125], MSE = 43.97\n",
      "Iteration #950: W_new = [45.0625  3.8125], MSE = 43.97\n",
      "Iteration #960: W_new = [45.0625  3.8125], MSE = 43.97\n",
      "Iteration #970: W_new = [45.0625  3.8125], MSE = 43.97\n",
      "Iteration #980: W_new = [45.0625  3.8125], MSE = 43.97\n",
      "Iteration #990: W_new = [45.0625  3.8125], MSE = 43.97\n"
     ]
    }
   ],
   "source": [
    "alpha = 0.01  # Initial learning rate\n",
    "N_iter = 1000  # Initial number of iterations\n",
    "\n",
    "print(f'Number of objects = {n} \\\n",
    "       \\nLearning rate = {alpha} \\\n",
    "       \\nInitial weights = {W} \\n')\n",
    "\n",
    "for i in range(N_iter):\n",
    "    y_pred = np.dot(W, X)\n",
    "    err = np.mean((y_pred - y)**2)  \n",
    "    for k in range(W.shape[0]):\n",
    "        W[k] -= alpha * np.mean((y_pred - y) * X[k])  \n",
    "    if i % 10 == 0:\n",
    "        alpha /= 1.1  \n",
    "        print(f'Iteration #{i}: W_new = {W}, MSE = {round(err,2)}')\n"
   ]
  },
  {
   "cell_type": "markdown",
   "metadata": {
    "colab_type": "text",
    "id": "5Qu1o4JhZYwI"
   },
   "source": [
    "*2. В этом коде мы избавляемся от итераций по весам, но тут есть ошибка, исправьте ее"
   ]
  },
  {
   "cell_type": "code",
   "execution_count": 24,
   "metadata": {
    "colab": {
     "base_uri": "https://localhost:8080/",
     "height": 185
    },
    "colab_type": "code",
    "id": "WZZzDCQLY4pA",
    "outputId": "28f58ade-72f2-4381-809d-2417752d56e4"
   },
   "outputs": [
    {
     "name": "stdout",
     "output_type": "stream",
     "text": [
      "Number of objects = 2        \n",
      "Learning rate = 0.01        \n",
      "Initial weights = [1.  0.5] \n",
      "\n",
      "Iteration #0: W_new = [25.25 24.75], MSE = 3047.75\n",
      "Iteration #10: W_new = [420.27898068 419.77898068], MSE = 2050687.63\n",
      "Iteration #20: W_new = [11846.67613204 11846.17613204], MSE = 1715275255.62\n",
      "Iteration #30: W_new = [342360.53269529 342360.03269529], MSE = 1435140382808.23\n",
      "Iteration #40: W_new = [9902627.68719454 9902627.18719454], MSE = 1200756920700091.5\n",
      "Iteration #50: W_new = [2.86437805e+08 2.86437805e+08], MSE = 1.0046523674476397e+18\n",
      "Iteration #60: W_new = [8.28534655e+09 8.28534655e+09], MSE = 8.405751089322615e+20\n",
      "Iteration #70: W_new = [2.39657505e+11 2.39657505e+11], MSE = 7.03294529182811e+23\n",
      "Iteration #80: W_new = [6.9322049e+12 6.9322049e+12], MSE = 5.884342630687287e+26\n",
      "Iteration #90: W_new = [2.00517254e+14 2.00517254e+14], MSE = 4.9233268223423766e+29\n",
      "Iteration #100: W_new = [5.8000549e+15 5.8000549e+15], MSE = 4.1192616611389805e+32\n",
      "Iteration #110: W_new = [1.67769288e+17 1.67769288e+17], MSE = 3.446514368277602e+35\n",
      "Iteration #120: W_new = [4.85280475e+18 4.85280475e+18], MSE = 2.8836384449196436e+38\n",
      "Iteration #130: W_new = [1.40369636e+20 1.40369636e+20], MSE = 2.4126899796370827e+41\n",
      "Iteration #140: W_new = [4.06025708e+21 4.06025708e+21], MSE = 2.0186556147830065e+44\n",
      "Iteration #150: W_new = [1.17444826e+23 1.17444826e+23], MSE = 1.6889739359334994e+47\n",
      "Iteration #160: W_new = [3.39714626e+24 3.39714626e+24], MSE = 1.4131350267833264e+50\n",
      "Iteration #170: W_new = [9.8264037e+25 9.8264037e+25], MSE = 1.1823454237132423e+53\n",
      "Iteration #180: W_new = [2.84233301e+27 2.84233301e+27], MSE = 9.892477891215634e+55\n",
      "Iteration #190: W_new = [8.22158054e+28 8.22158054e+28], MSE = 8.276863669912126e+58\n",
      "Iteration #200: W_new = [2.37813044e+30 2.37813044e+30], MSE = 6.925107436544674e+61\n",
      "Iteration #210: W_new = [6.87885301e+31 6.87885301e+31], MSE = 5.794116578483593e+64\n",
      "Iteration #220: W_new = [1.98974025e+33 1.98974025e+33], MSE = 4.8478362585244266e+67\n",
      "Iteration #230: W_new = [5.75541631e+34 5.75541631e+34], MSE = 4.0561000233817995e+70\n",
      "Iteration #240: W_new = [1.66478096e+36 1.66478096e+36], MSE = 3.393668127868123e+73\n",
      "Iteration #250: W_new = [4.81545642e+37 4.81545642e+37], MSE = 2.8394229175111868e+76\n",
      "Iteration #260: W_new = [1.39289318e+39 1.39289318e+39], MSE = 2.3756956192273353e+79\n",
      "Iteration #270: W_new = [4.02900837e+40 4.02900837e+40], MSE = 1.9877030788224295e+82\n",
      "Iteration #280: W_new = [1.16540943e+42 1.16540943e+42], MSE = 1.6630764890854044e+85\n",
      "Iteration #290: W_new = [3.37100102e+43 3.37100102e+43], MSE = 1.3914670848058379e+88\n",
      "Iteration #300: W_new = [9.75077736e+44 9.75077736e+44], MSE = 1.1642162346741143e+91\n",
      "Iteration #310: W_new = [2.82045774e+46 2.82045774e+46], MSE = 9.740794129297716e+93\n",
      "Iteration #320: W_new = [8.15830531e+47 8.15830531e+47], MSE = 8.14995251255195e+96\n",
      "Iteration #330: W_new = [2.35982779e+49 2.35982779e+49], MSE = 6.818923085241376e+99\n",
      "Iteration #340: W_new = [6.82591172e+50 6.82591172e+50], MSE = 5.70527398421346e+102\n",
      "Iteration #350: W_new = [1.97442674e+52 1.97442674e+52], MSE = 4.773503209824034e+105\n",
      "Iteration #360: W_new = [5.71112126e+53 5.71112126e+53], MSE = 3.9939068583297477e+108\n",
      "Iteration #370: W_new = [1.65196841e+55 1.65196841e+55], MSE = 3.341632191675302e+111\n",
      "Iteration #380: W_new = [4.77839552e+56 4.77839552e+56], MSE = 2.795885357504441e+114\n",
      "Iteration #390: W_new = [1.38217315e+58 1.38217315e+58], MSE = 2.3392685023149575e+117\n",
      "Iteration #400: W_new = [3.99800017e+59 3.99800017e+59], MSE = 1.957225145600112e+120\n",
      "Iteration #410: W_new = [1.15644016e+61 1.15644016e+61], MSE = 1.6375761340686057e+123\n",
      "Iteration #420: W_new = [3.34505699e+62 3.34505699e+62], MSE = 1.3701313826360273e+126\n",
      "Iteration #430: W_new = [9.67573307e+63 9.67573307e+63], MSE = 1.1463650248858982e+129\n",
      "Iteration #440: W_new = [2.79875083e+65 2.79875083e+65], MSE = 9.591436171276626e+131\n",
      "Iteration #450: W_new = [8.09551706e+66 8.09551706e+66], MSE = 8.024987314736884e+134\n",
      "Iteration #460: W_new = [2.34166599e+68 2.34166599e+68], MSE = 6.7143668843407865e+137\n",
      "Iteration #470: W_new = [6.77337789e+69 6.77337789e+69], MSE = 5.617793634980994e+140\n",
      "Iteration #480: W_new = [1.95923108e+71 1.95923108e+71], MSE = 4.700309927781295e+143\n",
      "Iteration #490: W_new = [5.66716711e+72 5.66716711e+72], MSE = 3.932667316156069e+146\n",
      "Iteration #500: W_new = [1.63925447e+74 1.63925447e+74], MSE = 3.2903941351081548e+149\n",
      "Iteration #510: W_new = [4.74161986e+75 4.74161986e+75], MSE = 2.75301536946088e+152\n",
      "Iteration #520: W_new = [1.37153562e+77 1.37153562e+77], MSE = 2.303399931217874e+155\n",
      "Iteration #530: W_new = [3.96723061e+78 3.96723061e+78], MSE = 1.9272145379172045e+158\n",
      "Iteration #540: W_new = [1.14753992e+80 1.14753992e+80], MSE = 1.6124667821777908e+161\n",
      "Iteration #550: W_new = [3.31931264e+81 3.31931264e+81], MSE = 1.349122825960389e+164\n",
      "Iteration #560: W_new = [9.60126633e+82 9.60126633e+82], MSE = 1.1287875320253587e+167\n",
      "Iteration #570: W_new = [2.77721098e+84 2.77721098e+84], MSE = 9.44436835503746e+169\n",
      "Iteration #580: W_new = [8.03321204e+85 8.03321204e+85], MSE = 7.901938238597508e+172\n",
      "Iteration #590: W_new = [2.32364398e+87 2.32364398e+87], MSE = 6.611413869018018e+175\n",
      "Iteration #600: W_new = [6.72124837e+88 6.72124837e+88], MSE = 5.531654643152702e+178\n",
      "Iteration #610: W_new = [1.94415238e+90 1.94415238e+90], MSE = 4.628238936077627e+181\n",
      "Iteration #620: W_new = [5.62355125e+91 5.62355125e+91], MSE = 3.872366774729929e+184\n",
      "Iteration #630: W_new = [1.62663838e+93 1.62663838e+93], MSE = 3.2399417240849003e+187\n",
      "Iteration #640: W_new = [4.70512722e+94 4.70512722e+94], MSE = 2.7108027173377286e+190\n",
      "Iteration #650: W_new = [1.36097995e+96 1.36097995e+96], MSE = 2.2680813416176965e+193\n",
      "Iteration #660: W_new = [3.93669786e+97 3.93669786e+97], MSE = 1.8976640901579142e+196\n",
      "Iteration #670: W_new = [1.13870818e+99 1.13870818e+99], MSE = 1.5877424380672287e+199\n",
      "Iteration #680: W_new = [3.29376642e+100 3.29376642e+100], MSE = 1.3284363985777364e+202\n",
      "Iteration #690: W_new = [9.52737271e+101 9.52737271e+101], MSE = 1.1114795591244772e+205\n",
      "Iteration #700: W_new = [2.7558369e+103 2.7558369e+103], MSE = 9.299555565280987e+207\n",
      "Iteration #710: W_new = [7.97138653e+104 7.97138653e+104], MSE = 7.780775903775586e+210\n",
      "Iteration #720: W_new = [2.30576066e+106 2.30576066e+106], MSE = 6.510039457239962e+213\n",
      "Iteration #730: W_new = [6.66952004e+107 6.66952004e+107], MSE = 5.4468364413703724e+216\n",
      "Iteration #740: W_new = [1.92918972e+109 1.92918972e+109], MSE = 4.5572730263632633e+219\n",
      "Iteration #750: W_new = [5.58027107e+110 5.58027107e+110], MSE = 3.812990836125218e+222\n",
      "Iteration #760: W_new = [1.61411938e+112 1.61411938e+112], MSE = 3.190262912111951e+225\n",
      "Iteration #770: W_new = [4.66891545e+113 4.66891545e+113], MSE = 2.669237322043957e+228\n",
      "Iteration #780: W_new = [1.35050553e+115 1.35050553e+115], MSE = 2.233304300514771e+231\n",
      "Iteration #790: W_new = [3.9064001e+116 3.9064001e+116], MSE = 1.8685667465785734e+234\n",
      "Iteration #800: W_new = [1.12994441e+118 1.12994441e+118], MSE = 1.5633971983192957e+237\n",
      "Iteration #810: W_new = [3.26841682e+119 3.26841682e+119], MSE = 1.3080671612015369e+240\n",
      "Iteration #820: W_new = [9.45404778e+120 9.45404778e+120], MSE = 1.094436973568373e+243\n",
      "Iteration #830: W_new = [2.73462733e+122 2.73462733e+122], MSE = 9.15696322513944e+245\n",
      "Iteration #840: W_new = [7.91003685e+123 7.91003685e+123], MSE = 7.66147138040907e+248\n",
      "Iteration #850: W_new = [2.28801498e+125 2.28801498e+125], MSE = 6.410219443895753e+251\n",
      "Iteration #860: W_new = [6.61818983e+126 6.61818983e+126], MSE = 5.363318777639969e+254\n",
      "Iteration #870: W_new = [1.91434222e+128 1.91434222e+128], MSE = 4.487395254148078e+257\n",
      "Iteration #880: W_new = [5.53732398e+129 5.53732398e+129], MSE = 3.7545253231827206e+260\n",
      "Iteration #890: W_new = [1.60169674e+131 1.60169674e+131], MSE = 3.141345837407518e+263\n",
      "Iteration #900: W_new = [4.63298237e+132 4.63298237e+132], MSE = 2.6283092590336817e+266\n",
      "Iteration #910: W_new = [1.34011172e+134 1.34011172e+134], MSE = 2.1990605042147124e+269\n",
      "Iteration #920: W_new = [3.87633552e+135 3.87633552e+135], MSE = 1.839915559622925e+272\n",
      "Iteration #930: W_new = [1.12124809e+137 1.12124809e+137], MSE = 1.5394252500348662e+275\n",
      "Iteration #940: W_new = [3.2432623e+138 3.2432623e+138], MSE = 1.2880102502805018e+278\n",
      "Iteration #950: W_new = [9.38128719e+139 9.38128719e+139], MSE = 1.0776557061085393e+281\n",
      "Iteration #960: W_new = [2.71358099e+141 2.71358099e+141], MSE = 9.016557287920485e+283\n",
      "Iteration #970: W_new = [7.84915933e+142 7.84915933e+142], MSE = 7.54399618222445e+286\n",
      "Iteration #980: W_new = [2.27040587e+144 2.27040587e+144], MSE = 6.311929995017282e+289\n",
      "Iteration #990: W_new = [6.56725468e+145 6.56725468e+145], MSE = 5.28108171049623e+292\n"
     ]
    }
   ],
   "source": [
    "n = X.shape[0]\n",
    "\n",
    "W = np.array([1, 0.5])\n",
    "\n",
    "alpha = 0.01\n",
    "N_iter = 1000\n",
    "\n",
    "print(f'Number of objects = {n} \\\n",
    "       \\nLearning rate = {alpha} \\\n",
    "       \\nInitial weights = {W} \\n')\n",
    "\n",
    "for i in range(N_iter):\n",
    "    y_pred = np.dot(W, X)\n",
    "    err = calc_mse(y, y_pred)\n",
    "    W -= alpha * (1/n * 2 * np.sum(X * (y_pred - y)))\n",
    "    W_pred = W\n",
    "    if i % 10 == 0:\n",
    "        print(f'Iteration #{i}: W_new = {W}, MSE = {round(err,2)}')"
   ]
  },
  {
   "cell_type": "markdown",
   "metadata": {
    "colab_type": "text",
    "id": "5Qu1o4JhZYwI"
   },
   "source": [
    "*3. Вместо того, чтобы задавать количество итераций, задайте условие остановки алгоритма - когда ошибка за итерацию начинает изменяться ниже определенного порога (упрощенный аналог параметра tol в линейной регрессии в sklearn)."
   ]
  },
  {
   "cell_type": "code",
   "execution_count": 25,
   "metadata": {},
   "outputs": [
    {
     "name": "stdout",
     "output_type": "stream",
     "text": [
      "Number of objects = 2        \n",
      "Learning rate = 0.01        \n",
      "Initial weights = [1.  0.5] \n",
      "\n",
      "Iteration #0: W_new = [25.25 24.75], MSE = 3047.75\n",
      "Iteration #10: W_new = [420.27898068 419.77898068], MSE = 2050687.63\n",
      "Iteration #20: W_new = [11846.67613204 11846.17613204], MSE = 1715275255.62\n",
      "Iteration #30: W_new = [342360.53269529 342360.03269529], MSE = 1435140382808.23\n",
      "Iteration #40: W_new = [9902627.68719454 9902627.18719454], MSE = 1200756920700091.5\n",
      "Iteration #50: W_new = [2.86437805e+08 2.86437805e+08], MSE = 1.0046523674476397e+18\n",
      "Iteration #60: W_new = [8.28534655e+09 8.28534655e+09], MSE = 8.405751089322615e+20\n",
      "Iteration #70: W_new = [2.39657505e+11 2.39657505e+11], MSE = 7.03294529182811e+23\n",
      "Iteration #80: W_new = [6.9322049e+12 6.9322049e+12], MSE = 5.884342630687287e+26\n",
      "Iteration #90: W_new = [2.00517254e+14 2.00517254e+14], MSE = 4.9233268223423766e+29\n",
      "Iteration #100: W_new = [5.8000549e+15 5.8000549e+15], MSE = 4.1192616611389805e+32\n",
      "Iteration #110: W_new = [1.67769288e+17 1.67769288e+17], MSE = 3.446514368277602e+35\n",
      "Iteration #120: W_new = [4.85280475e+18 4.85280475e+18], MSE = 2.8836384449196436e+38\n",
      "Iteration #130: W_new = [1.40369636e+20 1.40369636e+20], MSE = 2.4126899796370827e+41\n",
      "Iteration #140: W_new = [4.06025708e+21 4.06025708e+21], MSE = 2.0186556147830065e+44\n",
      "Iteration #150: W_new = [1.17444826e+23 1.17444826e+23], MSE = 1.6889739359334994e+47\n",
      "Iteration #160: W_new = [3.39714626e+24 3.39714626e+24], MSE = 1.4131350267833264e+50\n",
      "Iteration #170: W_new = [9.8264037e+25 9.8264037e+25], MSE = 1.1823454237132423e+53\n",
      "Iteration #180: W_new = [2.84233301e+27 2.84233301e+27], MSE = 9.892477891215634e+55\n",
      "Iteration #190: W_new = [8.22158054e+28 8.22158054e+28], MSE = 8.276863669912126e+58\n",
      "Iteration #200: W_new = [2.37813044e+30 2.37813044e+30], MSE = 6.925107436544674e+61\n",
      "Iteration #210: W_new = [6.87885301e+31 6.87885301e+31], MSE = 5.794116578483593e+64\n",
      "Iteration #220: W_new = [1.98974025e+33 1.98974025e+33], MSE = 4.8478362585244266e+67\n",
      "Iteration #230: W_new = [5.75541631e+34 5.75541631e+34], MSE = 4.0561000233817995e+70\n",
      "Iteration #240: W_new = [1.66478096e+36 1.66478096e+36], MSE = 3.393668127868123e+73\n",
      "Iteration #250: W_new = [4.81545642e+37 4.81545642e+37], MSE = 2.8394229175111868e+76\n",
      "Iteration #260: W_new = [1.39289318e+39 1.39289318e+39], MSE = 2.3756956192273353e+79\n",
      "Iteration #270: W_new = [4.02900837e+40 4.02900837e+40], MSE = 1.9877030788224295e+82\n",
      "Iteration #280: W_new = [1.16540943e+42 1.16540943e+42], MSE = 1.6630764890854044e+85\n",
      "Iteration #290: W_new = [3.37100102e+43 3.37100102e+43], MSE = 1.3914670848058379e+88\n",
      "Iteration #300: W_new = [9.75077736e+44 9.75077736e+44], MSE = 1.1642162346741143e+91\n",
      "Iteration #310: W_new = [2.82045774e+46 2.82045774e+46], MSE = 9.740794129297716e+93\n",
      "Iteration #320: W_new = [8.15830531e+47 8.15830531e+47], MSE = 8.14995251255195e+96\n",
      "Iteration #330: W_new = [2.35982779e+49 2.35982779e+49], MSE = 6.818923085241376e+99\n",
      "Iteration #340: W_new = [6.82591172e+50 6.82591172e+50], MSE = 5.70527398421346e+102\n",
      "Iteration #350: W_new = [1.97442674e+52 1.97442674e+52], MSE = 4.773503209824034e+105\n",
      "Iteration #360: W_new = [5.71112126e+53 5.71112126e+53], MSE = 3.9939068583297477e+108\n",
      "Iteration #370: W_new = [1.65196841e+55 1.65196841e+55], MSE = 3.341632191675302e+111\n",
      "Iteration #380: W_new = [4.77839552e+56 4.77839552e+56], MSE = 2.795885357504441e+114\n",
      "Iteration #390: W_new = [1.38217315e+58 1.38217315e+58], MSE = 2.3392685023149575e+117\n",
      "Iteration #400: W_new = [3.99800017e+59 3.99800017e+59], MSE = 1.957225145600112e+120\n",
      "Iteration #410: W_new = [1.15644016e+61 1.15644016e+61], MSE = 1.6375761340686057e+123\n",
      "Iteration #420: W_new = [3.34505699e+62 3.34505699e+62], MSE = 1.3701313826360273e+126\n",
      "Iteration #430: W_new = [9.67573307e+63 9.67573307e+63], MSE = 1.1463650248858982e+129\n",
      "Iteration #440: W_new = [2.79875083e+65 2.79875083e+65], MSE = 9.591436171276626e+131\n",
      "Iteration #450: W_new = [8.09551706e+66 8.09551706e+66], MSE = 8.024987314736884e+134\n",
      "Iteration #460: W_new = [2.34166599e+68 2.34166599e+68], MSE = 6.7143668843407865e+137\n",
      "Iteration #470: W_new = [6.77337789e+69 6.77337789e+69], MSE = 5.617793634980994e+140\n",
      "Iteration #480: W_new = [1.95923108e+71 1.95923108e+71], MSE = 4.700309927781295e+143\n",
      "Iteration #490: W_new = [5.66716711e+72 5.66716711e+72], MSE = 3.932667316156069e+146\n",
      "Iteration #500: W_new = [1.63925447e+74 1.63925447e+74], MSE = 3.2903941351081548e+149\n",
      "Iteration #510: W_new = [4.74161986e+75 4.74161986e+75], MSE = 2.75301536946088e+152\n",
      "Iteration #520: W_new = [1.37153562e+77 1.37153562e+77], MSE = 2.303399931217874e+155\n",
      "Iteration #530: W_new = [3.96723061e+78 3.96723061e+78], MSE = 1.9272145379172045e+158\n",
      "Iteration #540: W_new = [1.14753992e+80 1.14753992e+80], MSE = 1.6124667821777908e+161\n",
      "Iteration #550: W_new = [3.31931264e+81 3.31931264e+81], MSE = 1.349122825960389e+164\n",
      "Iteration #560: W_new = [9.60126633e+82 9.60126633e+82], MSE = 1.1287875320253587e+167\n",
      "Iteration #570: W_new = [2.77721098e+84 2.77721098e+84], MSE = 9.44436835503746e+169\n",
      "Iteration #580: W_new = [8.03321204e+85 8.03321204e+85], MSE = 7.901938238597508e+172\n",
      "Iteration #590: W_new = [2.32364398e+87 2.32364398e+87], MSE = 6.611413869018018e+175\n",
      "Iteration #600: W_new = [6.72124837e+88 6.72124837e+88], MSE = 5.531654643152702e+178\n",
      "Iteration #610: W_new = [1.94415238e+90 1.94415238e+90], MSE = 4.628238936077627e+181\n",
      "Iteration #620: W_new = [5.62355125e+91 5.62355125e+91], MSE = 3.872366774729929e+184\n",
      "Iteration #630: W_new = [1.62663838e+93 1.62663838e+93], MSE = 3.2399417240849003e+187\n",
      "Iteration #640: W_new = [4.70512722e+94 4.70512722e+94], MSE = 2.7108027173377286e+190\n",
      "Iteration #650: W_new = [1.36097995e+96 1.36097995e+96], MSE = 2.2680813416176965e+193\n",
      "Iteration #660: W_new = [3.93669786e+97 3.93669786e+97], MSE = 1.8976640901579142e+196\n",
      "Iteration #670: W_new = [1.13870818e+99 1.13870818e+99], MSE = 1.5877424380672287e+199\n",
      "Iteration #680: W_new = [3.29376642e+100 3.29376642e+100], MSE = 1.3284363985777364e+202\n",
      "Iteration #690: W_new = [9.52737271e+101 9.52737271e+101], MSE = 1.1114795591244772e+205\n",
      "Iteration #700: W_new = [2.7558369e+103 2.7558369e+103], MSE = 9.299555565280987e+207\n",
      "Iteration #710: W_new = [7.97138653e+104 7.97138653e+104], MSE = 7.780775903775586e+210\n",
      "Iteration #720: W_new = [2.30576066e+106 2.30576066e+106], MSE = 6.510039457239962e+213\n",
      "Iteration #730: W_new = [6.66952004e+107 6.66952004e+107], MSE = 5.4468364413703724e+216\n",
      "Iteration #740: W_new = [1.92918972e+109 1.92918972e+109], MSE = 4.5572730263632633e+219\n",
      "Iteration #750: W_new = [5.58027107e+110 5.58027107e+110], MSE = 3.812990836125218e+222\n",
      "Iteration #760: W_new = [1.61411938e+112 1.61411938e+112], MSE = 3.190262912111951e+225\n",
      "Iteration #770: W_new = [4.66891545e+113 4.66891545e+113], MSE = 2.669237322043957e+228\n",
      "Iteration #780: W_new = [1.35050553e+115 1.35050553e+115], MSE = 2.233304300514771e+231\n",
      "Iteration #790: W_new = [3.9064001e+116 3.9064001e+116], MSE = 1.8685667465785734e+234\n",
      "Iteration #800: W_new = [1.12994441e+118 1.12994441e+118], MSE = 1.5633971983192957e+237\n",
      "Iteration #810: W_new = [3.26841682e+119 3.26841682e+119], MSE = 1.3080671612015369e+240\n",
      "Iteration #820: W_new = [9.45404778e+120 9.45404778e+120], MSE = 1.094436973568373e+243\n",
      "Iteration #830: W_new = [2.73462733e+122 2.73462733e+122], MSE = 9.15696322513944e+245\n",
      "Iteration #840: W_new = [7.91003685e+123 7.91003685e+123], MSE = 7.66147138040907e+248\n",
      "Iteration #850: W_new = [2.28801498e+125 2.28801498e+125], MSE = 6.410219443895753e+251\n",
      "Iteration #860: W_new = [6.61818983e+126 6.61818983e+126], MSE = 5.363318777639969e+254\n",
      "Iteration #870: W_new = [1.91434222e+128 1.91434222e+128], MSE = 4.487395254148078e+257\n",
      "Iteration #880: W_new = [5.53732398e+129 5.53732398e+129], MSE = 3.7545253231827206e+260\n",
      "Iteration #890: W_new = [1.60169674e+131 1.60169674e+131], MSE = 3.141345837407518e+263\n",
      "Iteration #900: W_new = [4.63298237e+132 4.63298237e+132], MSE = 2.6283092590336817e+266\n",
      "Iteration #910: W_new = [1.34011172e+134 1.34011172e+134], MSE = 2.1990605042147124e+269\n",
      "Iteration #920: W_new = [3.87633552e+135 3.87633552e+135], MSE = 1.839915559622925e+272\n",
      "Iteration #930: W_new = [1.12124809e+137 1.12124809e+137], MSE = 1.5394252500348662e+275\n",
      "Iteration #940: W_new = [3.2432623e+138 3.2432623e+138], MSE = 1.2880102502805018e+278\n",
      "Iteration #950: W_new = [9.38128719e+139 9.38128719e+139], MSE = 1.0776557061085393e+281\n",
      "Iteration #960: W_new = [2.71358099e+141 2.71358099e+141], MSE = 9.016557287920485e+283\n",
      "Iteration #970: W_new = [7.84915933e+142 7.84915933e+142], MSE = 7.54399618222445e+286\n",
      "Iteration #980: W_new = [2.27040587e+144 2.27040587e+144], MSE = 6.311929995017282e+289\n",
      "Iteration #990: W_new = [6.56725468e+145 6.56725468e+145], MSE = 5.28108171049623e+292\n"
     ]
    }
   ],
   "source": [
    "n = X.shape[0]  \n",
    "\n",
    "W = np.array([1, 0.5])\n",
    "\n",
    "alpha = 0.01  \n",
    "delta_err = 0.0001  \n",
    "err_prev = float('inf') \n",
    "\n",
    "max_iter = 1000  \n",
    "print(f'Number of objects = {n} \\\n",
    "       \\nLearning rate = {alpha} \\\n",
    "       \\nInitial weights = {W} \\n')\n",
    "\n",
    "for i in range(max_iter):\n",
    "    y_pred = np.dot(W, X)\n",
    "    err = calc_mse(y, y_pred)\n",
    "    W -= alpha * (1/n * 2 * np.sum(X * (y_pred - y)))\n",
    "    \n",
    "    if abs(err - err_prev) < delta_err:\n",
    "        print(f'Stopping criteria met. Change in error below threshold.')\n",
    "        break\n",
    "    \n",
    "    err_prev = err\n",
    "    W_pred = W\n",
    "    \n",
    "    if i % 10 == 0:\n",
    "        print(f'Iteration #{i}: W_new = {W}, MSE = {round(err,2)}')"
   ]
  },
  {
   "cell_type": "code",
   "execution_count": null,
   "metadata": {},
   "outputs": [],
   "source": []
  }
 ],
 "metadata": {
  "colab": {
   "collapsed_sections": [],
   "name": "Lesson1.ipynb",
   "provenance": []
  },
  "kernelspec": {
   "display_name": "Python 3 (ipykernel)",
   "language": "python",
   "name": "python3"
  },
  "language_info": {
   "codemirror_mode": {
    "name": "ipython",
    "version": 3
   },
   "file_extension": ".py",
   "mimetype": "text/x-python",
   "name": "python",
   "nbconvert_exporter": "python",
   "pygments_lexer": "ipython3",
   "version": "3.11.7"
  }
 },
 "nbformat": 4,
 "nbformat_minor": 4
}
